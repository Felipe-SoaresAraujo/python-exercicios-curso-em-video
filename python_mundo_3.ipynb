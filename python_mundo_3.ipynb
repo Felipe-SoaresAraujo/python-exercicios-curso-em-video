{
  "nbformat": 4,
  "nbformat_minor": 0,
  "metadata": {
    "colab": {
      "name": "python - mundo 3.ipynb",
      "provenance": [],
      "collapsed_sections": [],
      "authorship_tag": "ABX9TyOHVlZxGUu64dnhaV1sBsPf",
      "include_colab_link": true
    },
    "kernelspec": {
      "name": "python3",
      "display_name": "Python 3"
    },
    "language_info": {
      "name": "python"
    }
  },
  "cells": [
    {
      "cell_type": "markdown",
      "metadata": {
        "id": "view-in-github",
        "colab_type": "text"
      },
      "source": [
        "<a href=\"https://colab.research.google.com/github/flp-digerati/python-exercicios-curso-em-video/blob/main/python_mundo_3.ipynb\" target=\"_parent\"><img src=\"https://colab.research.google.com/assets/colab-badge.svg\" alt=\"Open In Colab\"/></a>"
      ]
    },
    {
      "cell_type": "markdown",
      "metadata": {
        "id": "bhs13neZRC-4"
      },
      "source": [
        "# Aula 16"
      ]
    },
    {
      "cell_type": "code",
      "metadata": {
        "id": "8dVkyOYxYqdu"
      },
      "source": [
        ""
      ],
      "execution_count": null,
      "outputs": []
    },
    {
      "cell_type": "code",
      "metadata": {
        "colab": {
          "base_uri": "https://localhost:8080/"
        },
        "id": "u5zZLg3qQxgC",
        "outputId": "23eac62c-689c-4b2c-ed96-eb1e3bf889a5"
      },
      "source": [
        "lanche = ('hamburguer','pizza','suco','pudim','fritas')\n",
        "\n",
        "for c in lanche:\n",
        "  print(f'Eu comi {c}.')\n",
        "\n",
        "print(f'Eu comi {len(lanche)} itens do cardápio!')\n",
        "\n"
      ],
      "execution_count": null,
      "outputs": [
        {
          "output_type": "stream",
          "text": [
            "Eu comi hamburguer.\n",
            "Eu comi pizza.\n",
            "Eu comi suco.\n",
            "Eu comi pudim.\n",
            "Eu comi fritas.\n",
            "Eu comi 5 itens do cardápio!\n"
          ],
          "name": "stdout"
        }
      ]
    },
    {
      "cell_type": "markdown",
      "metadata": {
        "id": "BOOWrPbQZFae"
      },
      "source": [
        "Exercício Python 72: Crie um programa que tenha uma dupla totalmente preenchida com uma contagem por extenso, de zero até vinte. Seu programa deverá ler um número pelo teclado (entre 0 e 20) e mostrá-lo por extenso.\n",
        "\n"
      ]
    },
    {
      "cell_type": "code",
      "metadata": {
        "colab": {
          "base_uri": "https://localhost:8080/"
        },
        "id": "uWxLQDRQZGG1",
        "outputId": "fd73b0bf-0c31-4e16-fb41-5c0eb2b9ede2"
      },
      "source": [
        "lisExt = ('zero','um','dois','três','quatro','cinco','seis','sete','oito','nove','dez','onze','doze','treze','quatorze','quinze','dezesseis','dezessete','dezoito','dezenove','vinte')\n",
        "\n",
        "while True:\n",
        "  n = int(input('Digite um número de 0 a 20: '))\n",
        "  if 0 <= n <= 20: \n",
        "    print(lisExt[n])\n",
        "    break\n",
        "\n",
        "\n"
      ],
      "execution_count": null,
      "outputs": [
        {
          "output_type": "stream",
          "text": [
            "Digite um número de 0 a 20: 15\n",
            "quinze\n"
          ],
          "name": "stdout"
        }
      ]
    },
    {
      "cell_type": "markdown",
      "metadata": {
        "id": "2ualo9nnglOl"
      },
      "source": [
        "Exercício Python 73: Crie uma tupla preenchida com os 20 primeiros colocados da Tabela do Campeonato Brasileiro de Futebol, na ordem de colocação. Depois mostre:"
      ]
    },
    {
      "cell_type": "code",
      "metadata": {
        "id": "5VCNpyVRhN83",
        "colab": {
          "base_uri": "https://localhost:8080/"
        },
        "outputId": "7cb148a0-53f6-4a25-f756-f57a1e90674f"
      },
      "source": [
        "campbra = ('Palmeiras','Flamengo','Internacional','Grêmio','São Paulo','Atlético-MG','Athletico-PR','Cruzeiro','Botafogo','Santos','Bahia','Fluminense','Cotinthians','Chapecoense','Ceará','Vasco','Sport','America-MG','Vitória','Paraná')\n",
        "\n",
        "print(campbra)\n"
      ],
      "execution_count": null,
      "outputs": [
        {
          "output_type": "stream",
          "text": [
            "('Palmeiras', 'Flamengo', 'Internacional', 'Grêmio', 'São Paulo', 'Atlético-MG', 'Athletico-PR', 'Cruzeiro', 'Botafogo', 'Santos', 'Bahia', 'Fluminense', 'Cotinthians', 'Chapecoense', 'Ceará', 'Vasco', 'Sport', 'America-MG', 'Vitória', 'Paraná')\n"
          ],
          "name": "stdout"
        }
      ]
    },
    {
      "cell_type": "markdown",
      "metadata": {
        "id": "U6XQKeAAKIUz"
      },
      "source": [
        "Exercício Python 73: Crie uma tupla preenchida com os 20 primeiros colocados da Tabela do Campeonato Brasileiro de Futebol, na ordem de colocação. Depois mostre:\n",
        "\n",
        "a) Os 5 primeiros times.\n",
        "\n",
        "b) Os últimos 4 colocados.\n",
        "\n",
        "c) Times em ordem alfabética.\n",
        "\n",
        "d) Em que posição está o time da Chapecoense."
      ]
    },
    {
      "cell_type": "code",
      "metadata": {
        "colab": {
          "base_uri": "https://localhost:8080/"
        },
        "id": "nYEgKYhEKIwe",
        "outputId": "ffbaf742-5695-4025-86a7-209226ccbd73"
      },
      "source": [
        "print(campbra[:5])\n",
        "\n",
        "print(campbra[-4:])\n",
        "\n",
        "print(sorted(campbra))\n",
        "\n"
      ],
      "execution_count": null,
      "outputs": [
        {
          "output_type": "stream",
          "text": [
            "('Palmeiras', 'Flamengo', 'Internacional', 'Grêmio', 'São Paulo')\n",
            "('Sport', 'America-MG', 'Vitória', 'Paraná')\n",
            "['America-MG', 'Athletico-PR', 'Atlético-MG', 'Bahia', 'Botafogo', 'Ceará', 'Chapecoense', 'Cotinthians', 'Cruzeiro', 'Flamengo', 'Fluminense', 'Grêmio', 'Internacional', 'Palmeiras', 'Paraná', 'Santos', 'Sport', 'São Paulo', 'Vasco', 'Vitória']\n"
          ],
          "name": "stdout"
        }
      ]
    },
    {
      "cell_type": "markdown",
      "metadata": {
        "id": "m6bAtwC7tmBa"
      },
      "source": [
        "Exercício Python 074: Crie um programa que vai gerar cinco números aleatórios e colocar em uma tupla. Depois disso, mostre a listagem de números gerados e também indique o menor e o maior valor que estão na tupla."
      ]
    },
    {
      "cell_type": "code",
      "metadata": {
        "id": "JEO0BG-Etmaw",
        "colab": {
          "base_uri": "https://localhost:8080/"
        },
        "outputId": "b2a7e498-3ade-4cc9-910c-6373a6fb01af"
      },
      "source": [
        "from random import randint\n",
        "c = 1\n",
        "t = ()\n",
        "\n",
        "while c <= 5: \n",
        "  nums = randint(1,5)\n",
        "  c += 1\n",
        "  \n",
        "  t = t + (nums,)\n",
        "  \n",
        "\n",
        "print(sorted(t))\n",
        "print(type(nums))\n"
      ],
      "execution_count": null,
      "outputs": [
        {
          "output_type": "stream",
          "text": [
            "[2, 2, 3, 4, 4]\n",
            "<class 'int'>\n"
          ],
          "name": "stdout"
        }
      ]
    },
    {
      "cell_type": "code",
      "metadata": {
        "colab": {
          "base_uri": "https://localhost:8080/"
        },
        "id": "P46PIIsGnaxJ",
        "outputId": "2f150e1e-4537-44ae-c78a-48da47e0653b"
      },
      "source": [
        "from random import randint\n",
        "num = (randint(1, 10), randint(1, 10), randint(1, 10), randint(1, 10), randint(1, 10))\n",
        "\n",
        "print('Os valores sorteados foram: ', end=\"\")\n",
        "\n",
        "for n in num:\n",
        "  print(f'{num}', end = '')"
      ],
      "execution_count": null,
      "outputs": [
        {
          "output_type": "stream",
          "text": [
            "Os valores sorteados foram: (3, 3, 1, 9, 1)(3, 3, 1, 9, 1)(3, 3, 1, 9, 1)(3, 3, 1, 9, 1)(3, 3, 1, 9, 1)"
          ],
          "name": "stdout"
        }
      ]
    },
    {
      "cell_type": "code",
      "metadata": {
        "colab": {
          "base_uri": "https://localhost:8080/"
        },
        "id": "s_uwjzLLqFLI",
        "outputId": "10af88d1-0445-4bc7-d787-7dd0fc055c73"
      },
      "source": [
        "from random import sample\n",
        "a = tuple(sample(range(10), 5))\n",
        "print(a)\n",
        "print(f'O maior valor é {max(a)} e o menor é {min(a)}.')"
      ],
      "execution_count": null,
      "outputs": [
        {
          "output_type": "stream",
          "text": [
            "(7, 2, 3, 6, 0)\n",
            "O maior valor é 7 e o menor é 0.\n"
          ],
          "name": "stdout"
        }
      ]
    },
    {
      "cell_type": "markdown",
      "metadata": {
        "id": "Mpm3xO6pqJkz"
      },
      "source": [
        "Exercício Python 075: Desenvolva um programa que leia quatro valores pelo teclado e guarde-os em uma tupla. No final, mostre:\n",
        "\n",
        "A) Quantas vezes apareceu o valor 9.\n",
        "\n",
        "B) Em que posição foi digitado o primeiro valor 3.\n",
        "\n",
        "C) Quais foram os números pares."
      ]
    },
    {
      "cell_type": "code",
      "metadata": {
        "colab": {
          "base_uri": "https://localhost:8080/"
        },
        "id": "ELKxI-fVqV9S",
        "outputId": "7ae32640-1a02-4f27-ba86-410b83beaca6"
      },
      "source": [
        "num = (int(input('Digite um número: ')),\n",
        "      int(input('Digite outro número: ')),\n",
        "      int(input('Digite mais um número: ')),\n",
        "      int(input('Digite o último número: ')))\n",
        "\n",
        "print(f'Você digitou {num}')\n",
        "\n",
        "print(f'O núm 9 apareceu {num.count(9)} vezes.')\n",
        "\n",
        "if 3 in num:\n",
        "  print(f'O núm 3 apareceu na {num.index(3)+1}a posição')\n",
        "else: print('O valor 3 não foi informado.')\n",
        "print('Estes são os valores pares: ')\n",
        "\n",
        "for n in num:  \n",
        "  if n % 2 == 0:\n",
        "    print(n, end=' ')\n"
      ],
      "execution_count": null,
      "outputs": [
        {
          "output_type": "stream",
          "text": [
            "Digite um número: 4\n",
            "Digite outro número: 5\n",
            "Digite mais um número: 7\n",
            "Digite o último número: 8\n",
            "Você digitou (4, 5, 7, 8)\n",
            "O núm 9 apareceu 0 vezes.\n",
            "O valor 3 não foi informado.\n",
            "Estes são os valores pares: \n",
            "4 8 "
          ],
          "name": "stdout"
        }
      ]
    },
    {
      "cell_type": "markdown",
      "metadata": {
        "id": "f2OCLsptJ6ul"
      },
      "source": [
        "Exercício Python 076: Crie um programa que tenha uma tupla única com nomes de produtos e seus respectivos preços, na sequência. No final, mostre uma listagem de preços, organizando os dados em forma tabular."
      ]
    },
    {
      "cell_type": "code",
      "metadata": {
        "colab": {
          "base_uri": "https://localhost:8080/"
        },
        "id": "5fU7E0hiJ7SU",
        "outputId": "6955dac0-82e1-4200-8015-0355c29b80a1"
      },
      "source": [
        "lista = ('Lápis', 1.75,\n",
        "            'Borracha', 2,\n",
        "            'Caderno', 15.90,\n",
        "            'Estojo', 25,\n",
        "            'Transferidor', 4.20,\n",
        "            'Compasso', 9.99,\n",
        "            'Mochila', 120.32,\n",
        "            'Canetas', 22.30,\n",
        "            'Livro', 34.90)\n",
        "print('-'*39)\n",
        "print(f'{\"LISTAGEM DE PREÇOS\":^40}')\n",
        "print('='*39)\n",
        "\n",
        "for pos in range(0, len(lista)):\n",
        "  if pos % 2 == 0:\n",
        "    print(f'{lista[pos]:.<30}',end='')\n",
        "  else: print(f'R${lista[pos]:>7.2f}')\n",
        "  \n",
        "print('='*39)"
      ],
      "execution_count": null,
      "outputs": [
        {
          "output_type": "stream",
          "text": [
            "---------------------------------------\n",
            "           LISTAGEM DE PREÇOS           \n",
            "=======================================\n",
            "Lápis.........................R$   1.75\n",
            "Borracha......................R$   2.00\n",
            "Caderno.......................R$  15.90\n",
            "Estojo........................R$  25.00\n",
            "Transferidor..................R$   4.20\n",
            "Compasso......................R$   9.99\n",
            "Mochila.......................R$ 120.32\n",
            "Canetas.......................R$  22.30\n",
            "Livro.........................R$  34.90\n",
            "=======================================\n"
          ],
          "name": "stdout"
        }
      ]
    },
    {
      "cell_type": "markdown",
      "metadata": {
        "id": "GWfueAo3wbVJ"
      },
      "source": [
        ""
      ]
    },
    {
      "cell_type": "code",
      "metadata": {
        "id": "QjE3fSSbwb7u"
      },
      "source": [
        ""
      ],
      "execution_count": null,
      "outputs": []
    }
  ]
}