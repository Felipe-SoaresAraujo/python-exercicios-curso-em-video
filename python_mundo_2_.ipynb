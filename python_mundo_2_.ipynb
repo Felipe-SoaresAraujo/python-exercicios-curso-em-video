{
  "nbformat": 4,
  "nbformat_minor": 0,
  "metadata": {
    "colab": {
      "name": "python - mundo 2 .ipynb",
      "provenance": [],
      "collapsed_sections": [
        "ovYs8U-yfxwK"
      ],
      "include_colab_link": true
    },
    "kernelspec": {
      "display_name": "Python 3",
      "name": "python3"
    }
  },
  "cells": [
    {
      "cell_type": "markdown",
      "metadata": {
        "id": "view-in-github",
        "colab_type": "text"
      },
      "source": [
        "<a href=\"https://colab.research.google.com/github/flp-digerati/python-mun2/blob/main/python_mundo_2_.ipynb\" target=\"_parent\"><img src=\"https://colab.research.google.com/assets/colab-badge.svg\" alt=\"Open In Colab\"/></a>"
      ]
    },
    {
      "cell_type": "markdown",
      "metadata": {
        "id": "ovYs8U-yfxwK"
      },
      "source": [
        "# Aula 12"
      ]
    },
    {
      "cell_type": "markdown",
      "metadata": {
        "id": "LzRZoKT3RRW6"
      },
      "source": [
        "prática"
      ]
    },
    {
      "cell_type": "code",
      "metadata": {
        "colab": {
          "base_uri": "https://localhost:8080/"
        },
        "id": "6a6skrPVkBWo",
        "outputId": "be8886ca-67ae-4ac1-fbe8-3e4d3a32cbbb"
      },
      "source": [
        "nome = str(input('Qual é o seu nome: '))\n",
        "n = nome.upper()\n",
        "\n",
        "if n == 'FELIPE':\n",
        "  print('Belo nome, {}!'.format(nome.capitalize()))\n",
        "\n",
        "elif n in ('ANA PEDRO GUSTAVO MARIA PEDRO'):\n",
        "  print('Seu nome é bem comum no Brasil!')\n",
        "\n",
        "else: print('Tenha um bom dia , {}!'.format(nome))\n",
        "\n",
        "print('É um prazer te conhecer {}.'.format(nome.capitalize()))\n"
      ],
      "execution_count": null,
      "outputs": [
        {
          "output_type": "stream",
          "text": [
            "Qual é o seu nome: ana\n",
            "Seu nome é bem comum no Brasil!\n",
            "É um prazer te conhecer Ana.\n"
          ],
          "name": "stdout"
        }
      ]
    },
    {
      "cell_type": "markdown",
      "metadata": {
        "id": "FYUPkquAfuIN"
      },
      "source": [
        "ex036 - Escreva um programa para aprovar o empréstimo bancário para a compra de uma casa. Pergunte o valor da casa, o salário do comprador e em quantos anos ele vai pagar. A prestação mensal não pode exceder 30% do salário ou então o empréstimo será negado."
      ]
    },
    {
      "cell_type": "code",
      "metadata": {
        "colab": {
          "base_uri": "https://localhost:8080/"
        },
        "id": "JatlGwuDfp0o",
        "outputId": "0e64a7ea-b153-4def-93cd-7931763da7da"
      },
      "source": [
        "print('Simulador de Emprésimo')\n",
        "\n",
        "valorcasa = int(input('Valor do imóvel: R$'))\n",
        "salario = int(input('Salário mensal: R$'))\n",
        "anos = int(input('Em quantos anos pretende parcelar? '))\n",
        "\n",
        "prestação = valorcasa / (anos*12)\n",
        "\n",
        "print('Para um imóvel com valor de R${:.2f}, a parcela mensal será de R${:.2f}.'.format(valorcasa, prestação))\n",
        "\n",
        "if prestação > (salario*0.3):\n",
        "  \n",
        "  print('\\033[31mEmpréstimo negado.')\n",
        "\n",
        "else:\n",
        "  print('\\033[34mEmpréstimo liberado.')\n",
        "\n"
      ],
      "execution_count": null,
      "outputs": [
        {
          "output_type": "stream",
          "text": [
            "Simulador de Emprésimo\n",
            "Valor do imóvel: R$120000\n",
            "Salário mensal: R$1500\n",
            "Em quantos anos pretende parcelar? 10\n",
            "Para um imóvel com valor de R$120000.00, a parcela mensal será de R$1000.00.\n",
            "\u001b[31mEmpréstimo negado.\n"
          ],
          "name": "stdout"
        }
      ]
    },
    {
      "cell_type": "markdown",
      "metadata": {
        "id": "eqrkuiA_mrW3"
      },
      "source": [
        "ex037 - Escreva um programa em Python que leia um número inteiro qualquer e peça para o usuário escolher qual será a base de conversão: 1 para binário, 2 para octal e 3 para hexadecimal."
      ]
    },
    {
      "cell_type": "code",
      "metadata": {
        "colab": {
          "base_uri": "https://localhost:8080/"
        },
        "id": "akqo6xkNmtAp",
        "outputId": "e3b21c30-9b22-4141-e59f-0c85ec97b275"
      },
      "source": [
        "num = int(input('Digite um número inteiro: '))\n",
        " \n",
        "print('''Escolha a base de conversão:\n",
        "\\033[33m\n",
        "[ 1 ] PARA BINÁRIO\n",
        "[ 2 ] PARA OCTADECIMAL\n",
        "[ 3 ] PARA HEXADECIMAL\n",
        "\\033[0;0m\n",
        "''')\n",
        " \n",
        "opção = int(input(('Escolha sua base de conversão: ')))\n",
        " \n",
        "if opção == 1:\n",
        "  print('O valor inserido foi {}.'.format(num))\n",
        "  time.sleep(1)\n",
        "  print('Convertendo para BINÁRIO...')\n",
        "  \n",
        "  #print('{} em binário é {}.'.format(num, bin(num)))\n",
        "  print(bin(num))\n",
        " \n",
        " \n",
        "elif opção == 2:\n",
        "  print('O valor inserido foi {}.'.format(num))\n",
        "  time.sleep(1)\n",
        "  print('Convertendo para OCTADECIMAL...')\n",
        "  \n",
        "  print('{} em OCTADECIMAL é {}'.format(num, oct(num)))\n",
        " \n",
        "elif opção == 3:\n",
        "  print('O valor inserido foi {}.'.format(num))\n",
        "  time.sleep(1)\n",
        "  print('Convertendo para HEXADECIMAL...')\n",
        " \n",
        "  print('{} em HEXADECIMAL é {}'.format(num, hex(num)))\n",
        " \n",
        "else:\n",
        "  print('\\033[31mPor favor insira um valor de 1 a 3.')"
      ],
      "execution_count": null,
      "outputs": [
        {
          "output_type": "stream",
          "text": [
            "Digite um número inteiro: 6\n",
            "Escolha a base de conversão:\n",
            "\u001b[33m\n",
            "[ 1 ] PARA BINÁRIO\n",
            "[ 2 ] PARA OCTADECIMAL\n",
            "[ 3 ] PARA HEXADECIMAL\n",
            "\u001b[0;0m\n",
            "\n",
            "Escolha sua base de conversão: 1\n",
            "O valor inserido foi 6.\n",
            "Convertendo para BINÁRIO...\n",
            "0b110\n"
          ],
          "name": "stdout"
        }
      ]
    },
    {
      "cell_type": "markdown",
      "metadata": {
        "id": "3n6uVxUcmtiF"
      },
      "source": [
        "ex038 - Escreva um programa que leia dois números inteiros e compare-os. mostrando na tela uma mensagem:\n",
        "– O primeiro valor é maior\n",
        "\n",
        "– O segundo valor é maior\n",
        "\n",
        "– Não existe valor maior, os dois são iguais"
      ]
    },
    {
      "cell_type": "code",
      "metadata": {
        "colab": {
          "base_uri": "https://localhost:8080/"
        },
        "id": "N8L_6w1Vmvjo",
        "outputId": "bf06a701-bc67-425d-b418-893f6ac217cb"
      },
      "source": [
        "n1 = int(input('Digite um número: '))\n",
        "n2 = int(input('Digite outro número: '))\n",
        "\n",
        "print('Comparando {} com {}...'.format(n1, n2))\n",
        "time.sleep(1)\n",
        "\n",
        "if n1 > n2:\n",
        "  print('O PRIMEIRO valor é MAIOR')\n",
        "\n",
        "elif n2 > n1:\n",
        "  print('O SEGUNDO valor é MAIOR.')\n",
        "\n",
        "else:\n",
        "  print('Os números são iguais.')\n",
        "  \n"
      ],
      "execution_count": null,
      "outputs": [
        {
          "output_type": "stream",
          "text": [
            "Digite um número: 21\n",
            "Digite outro número: 21\n",
            "Comparando 21 com 21...\n",
            "Os números são iguais.\n"
          ],
          "name": "stdout"
        }
      ]
    },
    {
      "cell_type": "markdown",
      "metadata": {
        "id": "CfN-Dr2smwI-"
      },
      "source": [
        "ex039 - Faça um programa que leia o ano de nascimento de um jovem e informe, de acordo com a sua idade, se ele ainda vai se alistar ao serviço militar, se é a hora exata de se alistar ou se já passou do tempo do alistamento. Seu programa também deverá mostrar o tempo que falta ou que passou do prazo."
      ]
    },
    {
      "cell_type": "code",
      "metadata": {
        "colab": {
          "base_uri": "https://localhost:8080/"
        },
        "id": "2HJ22eQXmyOO",
        "outputId": "cbfc9738-2e2d-4309-8e85-4e38454c341f"
      },
      "source": [
        "import datetime\n",
        "\n",
        "anoatual = 2021\n",
        "anonascimento = int(input('Insira o ano do seu nascimento? '))\n",
        "idade = anoatual - anonascimento\n",
        "\n",
        "if idade == 18:\n",
        "  print('Você nasceu em {}, e completará 18 anos em {}.'.format(anonascimento, anoatual))\n",
        "  print('Você deve se alistar IMEDIATAMENTE!')\n",
        "\n",
        "elif idade < 18:\n",
        "  data = 18 - idade\n",
        "  ano = anoatual - data\n",
        "  print('Você nasceu em {}, e tem {} anos'.format(anonascimento, idade))\n",
        "  print('Você deverá se alistar daqui {} anos em {}.'.format(data, ano))\n",
        "\n",
        "\n",
        "else:\n",
        "  data = 2021 - (idade - 18)\n",
        "  ano = data - anoatual\n",
        "  print('Você tem {} anos de idade.'.format(idade))\n",
        "  print('Você deveria ter se alistado no ano de {}.'.format(data))\n"
      ],
      "execution_count": null,
      "outputs": [
        {
          "output_type": "stream",
          "text": [
            "Insira o ano do seu nascimento? 2010\n",
            "Você nasceu em 2010, e tem 11 anos\n",
            "Você deverá se alistar em 7 anos no ano de 2014.\n"
          ],
          "name": "stdout"
        }
      ]
    },
    {
      "cell_type": "markdown",
      "metadata": {
        "id": "7TOCDnIDmy3g"
      },
      "source": [
        "ex040 - Crie um programa que leia duas notas de um aluno e calcule sua média, mostrando uma mensagem no final, de acordo com a média atingida:\n",
        "\n",
        "– Média abaixo de 5.0: REPROVADO\n",
        "\n",
        "– Média entre 5.0 e 6.9: RECUPERAÇÃO\n",
        "\n",
        "– Média 7.0 ou superior: APROVADO"
      ]
    },
    {
      "cell_type": "code",
      "metadata": {
        "colab": {
          "base_uri": "https://localhost:8080/"
        },
        "id": "NfJf6Kl3m0nm",
        "outputId": "13b53292-a63c-4ffa-c415-1273cb376940"
      },
      "source": [
        "n1 = float(input('Nota da primeira prova: '))\n",
        "n2 = float(input('Nota da segunda prova: '))\n",
        "\n",
        "media = (n1 + n2) / 2\n",
        "\n",
        "print('O aluno tirou {} na primeira prova e {} na segunda prova.'.format(n1, n2))\n",
        "print('A média do aluno foi {}.'.format(media))\n",
        "\n",
        "if media < 5:\n",
        "  print('REPROVADO')\n",
        "\n",
        "elif 7 > media >= 5:\n",
        "  print('RECUPERAÇÃO')\n",
        "\n",
        "else:\n",
        "  print('APROVADO')"
      ],
      "execution_count": null,
      "outputs": [
        {
          "output_type": "stream",
          "text": [
            "Nota da primeira prova: 7.5\n",
            "Nota da segunda prova: 4\n",
            "O aluno tirou 7.5 na primeira prova e 4.0 na segunda prova.\n",
            "A média do aluno foi 5.75.\n",
            "RECUPERAÇÃO\n"
          ],
          "name": "stdout"
        }
      ]
    },
    {
      "cell_type": "markdown",
      "metadata": {
        "id": "sA7ZWdvoAT6r"
      },
      "source": [
        "Exercício Python 041: A Confederação Nacional de Natação precisa de um programa que leia o ano de nascimento de um atleta e mostre sua categoria, de acordo com a idade:\n",
        "\n",
        " Até 9 anos: MIRIM\n",
        "\n",
        "– Até 14 anos: INFANTIL\n",
        "\n",
        "– Até 19 anos: JÚNIOR\n",
        "\n",
        "– Até 25 anos: SÊNIOR\n",
        "\n",
        "– Acima de 25 anos: MASTER"
      ]
    },
    {
      "cell_type": "code",
      "metadata": {
        "colab": {
          "base_uri": "https://localhost:8080/"
        },
        "id": "wFVlFcWmAWSk",
        "outputId": "eea011cd-5046-4966-e0fd-86fed58702e7"
      },
      "source": [
        "from datetime import date\n",
        "\n",
        "nasc = int(input('Infore o ano de nascimento: '))\n",
        "\n",
        "anoatual = date.today().year\n",
        "idade = anoatual - nasc\n",
        "print('O atleta tem {} anos de idade.'.format(idade))\n",
        "\n",
        "if idade <= 9:\n",
        "  print('Categoria: Mirim')\n",
        "\n",
        "elif idade <= 14 and idade > 9:\n",
        "  print('Categoria: Infantil')\n",
        "\n",
        "elif idade <= 19:\n",
        "  print('Categoria: Júnior')\n",
        "\n",
        "elif idade <= 25:\n",
        "  print('Categoria: Sênior')\n",
        "\n",
        "else:\n",
        "  print('Categoria: Master')\n"
      ],
      "execution_count": null,
      "outputs": [
        {
          "output_type": "stream",
          "text": [
            "Infore o ano de nascimento: 1991\n",
            "O atleta tem 30 anos de idade.\n",
            "Categoria: Master\n"
          ],
          "name": "stdout"
        }
      ]
    },
    {
      "cell_type": "markdown",
      "metadata": {
        "id": "-RGJORZcDNFx"
      },
      "source": [
        "Exercício Python 42: Refaça o DESAFIO 35 dos triângulos, acrescentando o recurso de mostrar que tipo de triângulo será formado:\n",
        "\n",
        "– EQUILÁTERO: todos os lados iguais\n",
        "\n",
        "– ISÓSCELES: dois lados iguais, um diferente\n",
        "\n",
        "– ESCALENO: todos os lados diferentes\n",
        "\n"
      ]
    },
    {
      "cell_type": "code",
      "metadata": {
        "colab": {
          "base_uri": "https://localhost:8080/"
        },
        "id": "2Ub-oQeCDnG-",
        "outputId": "cc077dc7-83ab-4fc5-a80c-b2484cd0c3fc"
      },
      "source": [
        "print('-='*20)\n",
        "print('Analisador de Triângulos')\n",
        "print('-='*20)\n",
        " \n",
        "a = float(input('Segmento de reta 1: '))\n",
        "b = float(input('Segmento de reta 2: '))\n",
        "c = float(input('Segmento de reta 3: '))\n",
        " \n",
        "if a < b + c and b < a + c and c < a + b:\n",
        "  print('Os seguimentos acima PODEM FORMAR um triângulo.')\n",
        "  \n",
        "  if a == b == c:\n",
        "    print('EQUILÁTERO')\n",
        " \n",
        "  elif a == b or b == c or c == a:\n",
        "    print('ISÓCELES')\n",
        " \n",
        "else:\n",
        "  print('Os seguimentos acima \\033[31mNÃO PODEM\\033[0;0m formar um triângulo.')"
      ],
      "execution_count": null,
      "outputs": [
        {
          "output_type": "stream",
          "text": [
            "-=-=-=-=-=-=-=-=-=-=-=-=-=-=-=-=-=-=-=-=\n",
            "Analisador de Triângulos\n",
            "-=-=-=-=-=-=-=-=-=-=-=-=-=-=-=-=-=-=-=-=\n"
          ],
          "name": "stdout"
        }
      ]
    },
    {
      "cell_type": "markdown",
      "metadata": {
        "id": "MDAhfT6eXsme"
      },
      "source": [
        "Ex043"
      ]
    },
    {
      "cell_type": "code",
      "metadata": {
        "id": "jlGA20-HXwy2"
      },
      "source": [
        ""
      ],
      "execution_count": null,
      "outputs": []
    },
    {
      "cell_type": "markdown",
      "metadata": {
        "id": "yOOux8TZmJWy"
      },
      "source": [
        "# Aula 13"
      ]
    },
    {
      "cell_type": "markdown",
      "metadata": {
        "id": "mpEiOSEGDBva"
      },
      "source": [
        "Exercício Python 46: Faça um programa que mostre na tela uma contagem regressiva para o estouro de fogos de artifício, indo de 10 até 0, com uma pausa de 1 segundo entre eles."
      ]
    },
    {
      "cell_type": "code",
      "metadata": {
        "id": "we9FhM_DmL1Z",
        "colab": {
          "base_uri": "https://localhost:8080/"
        },
        "outputId": "48ef2889-673e-4b10-b371-fdbd80b2e48c"
      },
      "source": [
        "import time \n",
        "print('Prepar para lançamento em 10s t-1 !')\n",
        "for cont in range(10, -1, -1):\n",
        "  print(cont)\n",
        "  time.sleep(.8)\n",
        "print('LANÇAR!')\n"
      ],
      "execution_count": null,
      "outputs": [
        {
          "output_type": "stream",
          "text": [
            "Prepar para lançamento em 10s t-1 !\n",
            "10\n",
            "9\n",
            "8\n",
            "7\n",
            "6\n",
            "5\n",
            "4\n",
            "3\n",
            "2\n",
            "1\n",
            "0\n",
            "LANÇAR!\n"
          ],
          "name": "stdout"
        }
      ]
    },
    {
      "cell_type": "markdown",
      "metadata": {
        "id": "uFBWYROOEg6A"
      },
      "source": [
        "Exercício Python 47: Crie um programa que mostre na tela todos os números pares que estão no intervalo entre 1 e 50."
      ]
    },
    {
      "cell_type": "code",
      "metadata": {
        "id": "A0qUKhu3Fbya"
      },
      "source": [
        "for numpar in range(2, 51, 2):\n",
        "  print(numpar)\n"
      ],
      "execution_count": null,
      "outputs": []
    },
    {
      "cell_type": "markdown",
      "metadata": {
        "id": "fXIveI5CGmaS"
      },
      "source": [
        "Exercício Python 48: Faça um programa que calcule a soma entre todos os números que são múltiplos de três e que se encontram no intervalo de 1 até 500."
      ]
    },
    {
      "cell_type": "code",
      "metadata": {
        "colab": {
          "base_uri": "https://localhost:8080/"
        },
        "id": "UxuzS4wpGnOC",
        "outputId": "af10e8ef-960c-4eb1-c582-b816ad821a33"
      },
      "source": [
        "soma = 0\n",
        "cont = 0\n",
        "for num in range(1, 501, 2):\n",
        "  if num % 3 == 0:\n",
        "    cont = cont + 1\n",
        "    soma += num\n",
        "\n",
        "print('A soma de todos os {} valores disponiveis é {}.'.format(cont, soma))\n"
      ],
      "execution_count": null,
      "outputs": [
        {
          "output_type": "stream",
          "text": [
            "A soma de todos os 83 valores disponiveis é 20667.\n"
          ],
          "name": "stdout"
        }
      ]
    },
    {
      "cell_type": "markdown",
      "metadata": {
        "id": "SQcglGkXKXcN"
      },
      "source": [
        "Exercício Python 49: Refaça o DESAFIO 9, mostrando a tabuada de um número que o usuário escolher, só que agora utilizando um laço for."
      ]
    },
    {
      "cell_type": "code",
      "metadata": {
        "id": "OVFdHFNKKcrt"
      },
      "source": [
        "num = int(input('Ver a tabuada de qual número? '))\n",
        "\n",
        "for tab in range(1,11):\n",
        "    print('\\n{} x {:2} = {}'.format(num, tab, num*tab))\n"
      ],
      "execution_count": null,
      "outputs": []
    },
    {
      "cell_type": "markdown",
      "metadata": {
        "id": "fwBtNiY9Lsao"
      },
      "source": [
        "Exercício Python 50: Desenvolva um programa que leia seis números inteiros e mostre a soma apenas daqueles que forem pares. Se o valor digitado for ímpar, desconsidere-o."
      ]
    },
    {
      "cell_type": "code",
      "metadata": {
        "id": "RHwDDmq1MFAH"
      },
      "source": [
        "soma = 0\n",
        "cont = 0\n",
        "\n",
        "for c in range(1,7):\n",
        "  num = int(input('Digite o {}º valor: '.format(c)))\n",
        "  if num % 2 == 0:\n",
        "    soma += num\n",
        "    cont += 1\n",
        "print('Voce inseriu {} valores pares cuja soma é {}.'.format(cont, soma))\n"
      ],
      "execution_count": null,
      "outputs": []
    },
    {
      "cell_type": "markdown",
      "metadata": {
        "id": "EezxuGdpPqSR"
      },
      "source": [
        "Exercício Python 51: Desenvolva um programa que leia o primeiro termo e a razão de uma PA. No final, mostre os 10 primeiros termos dessa progressão."
      ]
    },
    {
      "cell_type": "code",
      "metadata": {
        "id": "FosSasy8PrMS"
      },
      "source": [
        "x = int(input(\"Digite o primeiro termo: \"))\n",
        "y = int(input('Insira a Razão: '))\n",
        "dec = x + (10 - 1) * y\n",
        "\n",
        "for pa in range(x, (dec + y), y):\n",
        "  print('{} '.format(pa), end='» ')\n",
        "\n",
        "print('FIM')\n"
      ],
      "execution_count": null,
      "outputs": []
    },
    {
      "cell_type": "markdown",
      "metadata": {
        "id": "7MKupCN052T8"
      },
      "source": [
        "Exercício Python 52: Faça um programa que leia um número inteiro e diga se ele é ou não um número primo."
      ]
    },
    {
      "cell_type": "code",
      "metadata": {
        "id": "EXozmLjN6EwQ"
      },
      "source": [
        "num = int(input('Digite um número: '))\n",
        "tot = 0\n",
        "for c in range(1 , num + 1):\n",
        "  if num % c == 0:\n",
        "    print('\\033[33m', end=' ')\n",
        "    tot += 1\n",
        "\n",
        "  else:\n",
        "    print('\\033[34m', end=' ')\n",
        "  print('{} '.format(c), end='› ')\n",
        "print('\\033[30mFIM')\n",
        "\n",
        "if tot == 2:\n",
        "  print('\\n\\033[32mO número {} é primo!'.format(num))\n",
        "print('\\033[32mPois foi divido {}x'.format(tot))\n",
        "\n",
        "\n",
        "\n"
      ],
      "execution_count": null,
      "outputs": []
    },
    {
      "cell_type": "markdown",
      "metadata": {
        "id": "k5OGqS-b_NSx"
      },
      "source": [
        "Exercício Python 53: Crie um programa que leia uma frase qualquer e diga se ela é um palíndromo, desconsiderando os espaços. Exemplos de palíndromos:\n",
        "\n",
        "APOS A SOPA, A SACADA DA CASA, A TORRE DA DERROTA, O LOBO AMA O BOLO, ANOTARAM A DATA DA MARATONA."
      ]
    },
    {
      "cell_type": "code",
      "metadata": {
        "id": "uHyEpe4__N-t"
      },
      "source": [
        "frase = str(input('Digite uma frase:')).strip().upper()\n",
        "palavras = frase.split()\n",
        "junto = ''.join(palavras)\n",
        "inverso = ''\n",
        "\n",
        "for letra in range(len(junto) - 1, -1 , -1):\n",
        "  inverso += junto[letra]\n",
        "print(junto, ' = ', inverso)\n",
        "\n",
        "if inverso == junto:\n",
        "  print('Temos um Palídromo!')\n",
        "\n",
        "else:\n",
        "  print('Não temos um palídromo :(')\n",
        "\n",
        "\n"
      ],
      "execution_count": null,
      "outputs": []
    },
    {
      "cell_type": "markdown",
      "metadata": {
        "id": "fgp0768NCzbP"
      },
      "source": [
        "Exercício Python 54: Crie um programa que leia o ano de nascimento de sete pessoas. No final, mostre quantas pessoas ainda não atingiram a maioridade e quantas já são maiores."
      ]
    },
    {
      "cell_type": "code",
      "metadata": {
        "id": "qxNALYfbC7Mf"
      },
      "source": [
        "from datetime import date\n",
        "anoatual = date.today().year\n",
        "totmaior = 0\n",
        "totmenor = 0\n",
        "\n",
        "for pess in range(1, 8):\n",
        "  nasc = int(input('Ano de nascimento da {}ª pessoa: '.format(pess)))\n",
        "  idade = anoatual - nasc\n",
        "\n",
        "  if idade >= 21:\n",
        "    totmaior += 1\n",
        "\n",
        "  else:\n",
        "    totmenor += 1\n",
        "\n",
        "print('{} pessoas são maiores de idade.'.format(totmaior))\n",
        "print('{} pessoas são menor de idade.'.format(totmenor))\n",
        "1\n"
      ],
      "execution_count": null,
      "outputs": []
    },
    {
      "cell_type": "markdown",
      "metadata": {
        "id": "uhpdFBipLwcw"
      },
      "source": [
        "Exercício Python 55: Faça um programa que leia o peso de cinco pessoas. No final, mostre qual foi o maior e o menor peso lidos."
      ]
    },
    {
      "cell_type": "code",
      "metadata": {
        "id": "UR1XdAPOLxJU"
      },
      "source": [
        "maior = 0\n",
        "menor = 0\n",
        "\n",
        "for p in range(1, 6):\n",
        "  peso = float(input('Peso da {}ª pessoa: '.format(p)))\n",
        "  if p == 1:\n",
        "    maior = peso\n",
        "    menor = peso\n",
        "  else:\n",
        "    if peso > maior:\n",
        "      maior = peso\n",
        "\n",
        "    if peso < menor:\n",
        "      menor = peso\n",
        "\n",
        "print('O maior peso é {}kg.'.format(maior))\n",
        "print('O menor peso é {}kg.'.format(menor))\n",
        "\n"
      ],
      "execution_count": null,
      "outputs": []
    },
    {
      "cell_type": "markdown",
      "metadata": {
        "id": "grJCTVvwPARg"
      },
      "source": [
        "Exercício Python 56: Desenvolva um programa que leia o nome, idade e sexo de 4 pessoas. No final do programa, mostre: a média de idade do grupo, qual é o nome do homem mais velho e quantas mulheres têm menos de 20 anos."
      ]
    },
    {
      "cell_type": "code",
      "metadata": {
        "id": "vMNr31k8PBI2"
      },
      "source": [
        "maisvelho = 0\n",
        "menos20 = 0\n",
        "homem = ''\n",
        "somaidade = 0\n",
        "mid = 0\n",
        "\n",
        "for p in range(1, 5):\n",
        "  print('------ {}ª Pessoa ------'.format(p))\n",
        "  nome = str(input('Nome: '.format(p)))\n",
        "  idade = int(input('Idade: '.format(p)))\n",
        "  sexo = str(input('Sexo: '.format(p))).upper()\n",
        "\n",
        "  if p == 1 and sexo == 'M':\n",
        "    homem = nome\n",
        "    maisvelho = idade\n",
        "    somaidade += idade\n",
        "\n",
        "  if sexo == 'M' and idade > maisvelho:\n",
        "    maisvelho = idade\n",
        "    homem = nome\n",
        "    somaidade += idade\n",
        "  if sexo == 'M' and idade < maisvelho:\n",
        "    somaidade += idade\n",
        "\n",
        "  if sexo in 'Ff' and idade < 21:\n",
        "    menos20 += 1\n",
        "\n",
        "\n",
        "\n",
        "\n",
        "mid = somaidade / 4\n",
        "\n",
        "print('A media de idade é {}.'.format(mid))\n",
        "print('O homem mais velho é {} e ele tem {} de idade.'.format(homem, maisvelho))\n",
        "print('Total de mulheres menor de idade é {}.'.format(menos20))\n",
        "\n",
        "\n"
      ],
      "execution_count": null,
      "outputs": []
    },
    {
      "cell_type": "markdown",
      "metadata": {
        "id": "73ExEUdV6F-W"
      },
      "source": [
        "# Aula 14"
      ]
    },
    {
      "cell_type": "markdown",
      "metadata": {
        "id": "EM4NhIkstYSm"
      },
      "source": [
        "Exercício Python 57: Faça um programa que leia o sexo de uma pessoa, mas só aceite os valores ‘M’ ou ‘F’. Caso esteja errado, peça a digitação novamente até ter um valor correto."
      ]
    },
    {
      "cell_type": "code",
      "metadata": {
        "id": "1HBD_-IM6Lmk",
        "colab": {
          "base_uri": "https://localhost:8080/"
        },
        "outputId": "ad371d06-09c7-4ae4-f079-92b6569d5a3c"
      },
      "source": [
        "sexo = str(input('Informe seu sexo [M/F]: ')).strip().upper() [0]\n",
        "\n",
        "while sexo not in 'MF':\n",
        "  sexo = str(input('Dado invalido por favor informe seu sexo [M/F]')).strip().upper() [0]\n",
        " \n",
        "if sexo == 'M':\n",
        "  sexo = 'Masculino'\n",
        "else:\n",
        "  sexo = 'Feminino'\n",
        "print('Sexo {} registrado.'.format(sexo))\n"
      ],
      "execution_count": null,
      "outputs": [
        {
          "output_type": "stream",
          "text": [
            "Informe seu sexo [M/F]: a\n",
            "Dado invalido por favor informe seu sexo [M/F]z\n",
            "Dado invalido por favor informe seu sexo [M/F]x\n",
            "Dado invalido por favor informe seu sexo [M/F]f\n",
            "Sexo Feminino registrado.\n"
          ],
          "name": "stdout"
        }
      ]
    },
    {
      "cell_type": "markdown",
      "metadata": {
        "id": "FbsBSnBnz2bA"
      },
      "source": [
        "Exercício Python 58: Melhore o jogo do DESAFIO 28 onde o computador vai “pensar” em um número entre 0 e 10. Só que agora o jogador vai tentar adivinhar até acertar, mostrando no final quantos palpites foram necessários para vencer.\n",
        "\n"
      ]
    },
    {
      "cell_type": "code",
      "metadata": {
        "colab": {
          "base_uri": "https://localhost:8080/"
        },
        "id": "qjOtrzlEz5lW",
        "outputId": "60be4577-8038-4cd3-bc9a-eaa0e6afbd26"
      },
      "source": [
        "from random import randint\n",
        "computador = randint(0,10)\n",
        "tentativas = 0\n",
        "acertou = False\n",
        "\n",
        "print('Adivinhe que número eu acabei de pensar!?')\n",
        "jogador = int(input('Qual é o seu palpite? Digite um número de 0 a 10: '.format(computador,)))\n",
        "\n",
        "while not acertou:\n",
        "  tentativas += 1\n",
        "  if jogador == computador:\n",
        "    acertou = True\n",
        "  if jogador < computador:\n",
        "    jogador = int(input('Tente um número mais alto: '))\n",
        "  if jogador > computador:\n",
        "    jogador = int(input('Tente um número mais baixo: '))\n",
        "\n",
        "print('Parabéns! Você acertou na {}ª tentativa.'.format(tentativas))\n"
      ],
      "execution_count": null,
      "outputs": [
        {
          "output_type": "stream",
          "text": [
            "Adivinhe que número eu acabei de pensar!?\n",
            "Qual é o seu palpite? Digite um número de 0 a 10: 5\n",
            "Tente um número mais baixo: 4\n",
            "Tente um número mais baixo: 3\n",
            "Tente um número mais baixo: 2\n",
            "Tente um número mais baixo: 1\n",
            "Parabéns! Você acertou na 5ª tentativa.\n"
          ],
          "name": "stdout"
        }
      ]
    },
    {
      "cell_type": "markdown",
      "metadata": {
        "id": "xLwxsSOc218i"
      },
      "source": [
        "Exercício Python 059: Crie um programa que leia dois valores e mostre um menu na tela:\n",
        "\n",
        "[ 1 ] somar\n",
        "\n",
        "[ 2 ] multiplicar\n",
        "\n",
        "[ 3 ] maior\n",
        "\n",
        "[ 4 ] novos números\n",
        "\n",
        "[ 5 ] sair do programa\n",
        "\n",
        "Seu programa deverá realizar a operação solicitada em cada caso."
      ]
    },
    {
      "cell_type": "code",
      "metadata": {
        "id": "WvB1I_b77d_v"
      },
      "source": [
        "from time import sleep\n",
        "\n",
        "v1 = int(input('Insira o primeiro valor: '))\n",
        "v2 = int(input('Insira o segundo valor: '))\n",
        "op = 0\n",
        "\n",
        "\n",
        "print('Você inseriu {} e {}.'.format(v1, v2))\n",
        "print('''O que você quer fazer?\n",
        "\n",
        "  [ 1 ] somar\n",
        "\n",
        "  [ 2 ] multiplicar\n",
        "\n",
        "  [ 3 ] maior\n",
        "\n",
        "  [ 4 ] novos números\n",
        "\n",
        "  [ 5 ] sair do programa\n",
        "  ''')\n",
        "\n",
        "while op != 5:  \n",
        "\n",
        "  op = int(input('\\nEscolha uma opção: >>> '))\n",
        "  if op == 1:\n",
        "    print('Você escolheu SOMAR.\\n')\n",
        "    sleep(1)\n",
        "    print('somando...')\n",
        "    sleep(2)\n",
        "    print('{} + {} = {}'.format(v1, v2, (v1 + v2)))\n",
        "    op = 0\n",
        "\n",
        "  elif op == 2:\n",
        "    print('Você escolheu MULTIPLICAR.\\n')\n",
        "    op = 0\n",
        "    print('{} x {} = {}'.format(v1, v2, (v1 * v1)))\n",
        "  \n",
        "  elif op == 3:\n",
        "    op = 0\n",
        "    print('Você escolheu saber o MAIOR.\\n')\n",
        "    maior = v1\n",
        "    if v1 < v2:\n",
        "      maior = v2\n",
        "    print('Entre {} e {} o maior valor é {}'.format(v1, v2, maior))\n",
        "\n",
        "  elif op == 4:\n",
        "    print('Você escolheu inserir novos números.\\n')\n",
        "    v1 = int(input('Insira o primeiro valor: '))\n",
        "    v2 = int(input('Insira o segundo valor: '))\n",
        "    op = 0\n",
        "\n",
        "  \n",
        "print('\\nVocê escolheu SAIR.')\n",
        "sleep(0.5)\n",
        "print('Finalizando...')\n",
        "sleep(2)\n",
        "print('<< Fim do Programa! >>')\n"
      ],
      "execution_count": null,
      "outputs": []
    },
    {
      "cell_type": "markdown",
      "metadata": {
        "id": "_racZ0DHuGi0"
      },
      "source": [
        "Exercício Python 060: Faça um programa que leia um número qualquer e mostre o seu fatorial. Exemplo:\n",
        "\n",
        "5! = 5 x 4 x 3 x 2 x 1 = 120\n",
        "\n"
      ]
    },
    {
      "cell_type": "code",
      "metadata": {
        "id": "5U55HBOouHMW",
        "colab": {
          "base_uri": "https://localhost:8080/"
        },
        "outputId": "6cd8adab-02cd-4809-f5bb-1414f4fc8eb3"
      },
      "source": [
        "num = int(input('Digite um número: '))\n",
        "fat = num\n",
        "f = 1\n",
        "print('Calculando {}! = '.format(num), end='')\n",
        "\n",
        "while fat > 0:\n",
        "  print('{}'.format(fat), end='')\n",
        "  print(' x ' if fat > 1 else ' = ', end='')\n",
        "  f *= fat\n",
        "  fat -= 1\n",
        "print('{}'.format(f))\n",
        "\n",
        "\n",
        "  \n"
      ],
      "execution_count": 164,
      "outputs": [
        {
          "output_type": "stream",
          "text": [
            "Digite um número: 5\n",
            "Calculando 5! = 5 x 4 x 3 x 2 x 1 = 120\n"
          ],
          "name": "stdout"
        }
      ]
    },
    {
      "cell_type": "markdown",
      "metadata": {
        "id": "_58YdVT93wpo"
      },
      "source": [
        "testando calculo de fatorial"
      ]
    },
    {
      "cell_type": "code",
      "metadata": {
        "colab": {
          "base_uri": "https://localhost:8080/"
        },
        "id": "BA3jp5f928mm",
        "outputId": "ce5112ea-263c-462c-c65c-2845e223168c"
      },
      "source": [
        "num = int(input('digite o valor: '))\n",
        "\n",
        "fat = num - 1\n",
        "while fat > 0:\n",
        "  num = fat * num\n",
        "  fat -= 1\n",
        "\n",
        "print(num)"
      ],
      "execution_count": 156,
      "outputs": [
        {
          "output_type": "stream",
          "text": [
            "digite o valor: 5\n",
            "120\n"
          ],
          "name": "stdout"
        }
      ]
    },
    {
      "cell_type": "markdown",
      "metadata": {
        "id": "vtoEH55k6VCG"
      },
      "source": [
        "Exercício Python 61: Refaça o DESAFIO 51, lendo o primeiro termo e a razão de uma PA, mostrando os 10 primeiros termos da progressão usando a estrutura while.\n",
        "\n"
      ]
    },
    {
      "cell_type": "code",
      "metadata": {
        "id": "Pm1GtdjA6Vsx"
      },
      "source": [
        "# ex051:\n",
        "x = int(input(\"Digite o primeiro termo: \"))\n",
        "y = int(input('Insira a Razão: '))\n",
        "dec = x + (10 - 1) * y\n",
        "\n",
        "for pa in range(x, (dec + y), y):\n",
        "  print('{} '.format(pa), end='» ')\n",
        "\n",
        "print('FIM')"
      ],
      "execution_count": null,
      "outputs": []
    },
    {
      "cell_type": "code",
      "metadata": {
        "colab": {
          "base_uri": "https://localhost:8080/"
        },
        "id": "6uP8L2Hu66so",
        "outputId": "4b82c774-91ca-435c-e899-53a0ae3e089c"
      },
      "source": [
        "pri = int(input('Digite o primeiro termo: '))\n",
        "r = int(input('Insira a Razão da PA: '))\n",
        "c = 1\n",
        "termo = pri\n",
        "\n",
        "while c <= 10:\n",
        "  print('{} » '.format(termo), end='')\n",
        "  termo += r\n",
        "  c += 1\n",
        "  \n",
        "\n",
        "print('FIM')\n",
        "\n"
      ],
      "execution_count": 31,
      "outputs": [
        {
          "output_type": "stream",
          "text": [
            "Digite o primeiro termo: 2\n",
            "Insira a Razão da PA: 6\n",
            "2 » 8 » 14 » 20 » 26 » 32 » 38 » 44 » 50 » 56 » FIM\n"
          ],
          "name": "stdout"
        }
      ]
    },
    {
      "cell_type": "markdown",
      "metadata": {
        "id": "7rpsAtft-4kU"
      },
      "source": [
        "Exercício Python 62: \n",
        "Melhore o DESAFIO 61, perguntando para o usuário se ele quer mostrar mais alguns termos. O programa encerrará quando ele disser que quer mostrar 0 termos."
      ]
    },
    {
      "cell_type": "code",
      "metadata": {
        "colab": {
          "base_uri": "https://localhost:8080/"
        },
        "id": "WDtZpl5W-4Au",
        "outputId": "2d7895af-2b82-4e07-e9d9-43ad62a4072e"
      },
      "source": [
        "pri = int(input('Digite o primeiro termo: '))\n",
        "r = int(input('Insira a Razão da PA: '))\n",
        "c = 1\n",
        "termo = pri\n",
        "total = 0\n",
        "mais = 10\n",
        "\n",
        "\n",
        "while mais != 0:\n",
        "  total = total + mais\n",
        "  while c <= total:    \n",
        "    print('{} » '.format(termo), end='')\n",
        "    termo += r\n",
        "    c += 1\n",
        "  print('PAUSA')\n",
        "  mais = int(input('Mais termos? '))\n",
        "\n",
        "print('Total de termos visualizados: {}'.format(total))\n",
        "print('FIM')"
      ],
      "execution_count": 21,
      "outputs": [
        {
          "output_type": "stream",
          "text": [
            "Digite o primeiro termo: 3\n",
            "Insira a Razão da PA: 4\n",
            "3 » 7 » 11 » 15 » 19 » 23 » 27 » 31 » 35 » 39 » PAUSA\n",
            "Mais termos? 2\n",
            "43 » 47 » PAUSA\n",
            "Mais termos? 0\n",
            "Total de termos visualizados: 12\n",
            "FIM\n"
          ],
          "name": "stdout"
        }
      ]
    },
    {
      "cell_type": "code",
      "metadata": {
        "colab": {
          "base_uri": "https://localhost:8080/"
        },
        "id": "ocFrUSGxj1DG",
        "outputId": "a176109a-7035-4673-b679-fd79439217b6"
      },
      "source": [
        "pri = int(input('Digite o primeiro termo: '))\n",
        "r = int(input('Insira a Razão da PA: '))\n",
        "termo = pri\n",
        "c = 1\n",
        "\n",
        "total = 0\n",
        "mais = 10\n",
        "\n",
        "while mais != 0:\n",
        "  total = total + mais\n",
        "  while c <= total:\n",
        "    print('{} » '.format(termo), end='')\n",
        "    termo += r\n",
        "    c += 1\n",
        "  print('pausa')\n",
        "  mais = int(input(\"Quantos mais? \"))\n",
        "print('FIM')"
      ],
      "execution_count": 27,
      "outputs": [
        {
          "output_type": "stream",
          "text": [
            "Digite o primeiro termo: 4\n",
            "Insira a Razão da PA: 3\n",
            "4 » 7 » 10 » 13 » 16 » 19 » 22 » 25 » 28 » 31 » pausa\n",
            "Qunatos mais? 3\n",
            "34 » 37 » 40 » pausa\n",
            "Qunatos mais? 2\n",
            "43 » 46 » pausa\n",
            "Qunatos mais? 4\n",
            "49 » 52 » 55 » 58 » pausa\n",
            "Qunatos mais? 0\n",
            "FIM\n"
          ],
          "name": "stdout"
        }
      ]
    },
    {
      "cell_type": "markdown",
      "metadata": {
        "id": "iMmh1FZbnfxH"
      },
      "source": [
        "Exercício Python 63: Escreva um programa que leia um número N inteiro qualquer e mostre na tela os N primeiros elementos de uma Sequência de Fibonacci. Exemplo:\n",
        "\n",
        "0 – 1 – 1 – 2 – 3 – 5 – 8"
      ]
    },
    {
      "cell_type": "code",
      "metadata": {
        "id": "YgvLQuMlnjqi"
      },
      "source": [
        "primt('Sequencia de Fibonacci')\n",
        "n = int(input('Quantos termos mostrar? '))\n",
        "\n",
        "\n"
      ],
      "execution_count": null,
      "outputs": []
    },
    {
      "cell_type": "code",
      "metadata": {
        "colab": {
          "base_uri": "https://localhost:8080/"
        },
        "id": "QFW_o1QzOvTx",
        "outputId": "cde19444-2ad9-446b-fcd4-c7eb913397b4"
      },
      "source": [
        "a = 0\n",
        "b = 1\n",
        "c = 0\n",
        "print('▫'*60)\n",
        "n = int(input('Insira a quantidade de termos: '))\n",
        "cont = 0\n",
        "\n",
        "while cont < n:\n",
        "  c = a + b\n",
        "  a = b\n",
        "  b = c \n",
        "  cont += 1\n",
        "  print('{} › '.format(c), end = '')\n",
        "print('FIM', end='')\n"
      ],
      "execution_count": 18,
      "outputs": [
        {
          "output_type": "stream",
          "text": [
            "▫▫▫▫▫▫▫▫▫▫▫▫▫▫▫▫▫▫▫▫▫▫▫▫▫▫▫▫▫▫▫▫▫▫▫▫▫▫▫▫▫▫▫▫▫▫▫▫▫▫▫▫▫▫▫▫▫▫▫▫\n",
            "Insira a quantidade de termos: 12\n",
            "1 › 2 › 3 › 5 › 8 › 13 › 21 › 34 › 55 › 89 › 144 › 233 › FIM"
          ],
          "name": "stdout"
        }
      ]
    },
    {
      "cell_type": "markdown",
      "metadata": {
        "id": "i7I36Y2SZQh4"
      },
      "source": [
        "Exercício Python 64: Crie um programa que leia vários números inteiros pelo teclado. O programa só vai parar quando o usuário digitar o valor 999, que é a condição de parada. No final, mostre quantos números foram digitados e qual foi a soma entre eles (desconsiderando o flag).\n",
        "\n"
      ]
    },
    {
      "cell_type": "code",
      "metadata": {
        "colab": {
          "base_uri": "https://localhost:8080/"
        },
        "id": "qCqJltV3ZRG8",
        "outputId": "570cdcdf-532d-4028-f181-cb2c59dd44c1"
      },
      "source": [
        "n = cont = soma = 0 \n",
        "n = int(input('Digite um número: '))\n",
        "\n",
        "while n != 999:\n",
        "  soma += n\n",
        "  cont += 1\n",
        "  n = int(input('Digite um número: '))\n",
        "\n",
        "print('Você digitou {} numeros cuja soma é {}'.format(cont, soma))\n"
      ],
      "execution_count": 1,
      "outputs": [
        {
          "output_type": "stream",
          "text": [
            "Digite um número: 12\n",
            "Digite um número: 4\n",
            "Digite um número: 3\n",
            "Digite um número: 66\n",
            "Digite um número: 999\n",
            "Você digitou 4 numeros cuja soma é 85\n"
          ],
          "name": "stdout"
        }
      ]
    },
    {
      "cell_type": "markdown",
      "metadata": {
        "id": "uvmKJOYd1cdR"
      },
      "source": [
        "Exercício Python 65: Crie um programa que leia vários números inteiros pelo teclado. No final da execução, mostre a média entre todos os valores e qual foi o maior e o menor valores lidos. O programa deve perguntar ao usuário se ele quer ou não continuar a digitar valores."
      ]
    },
    {
      "cell_type": "code",
      "metadata": {
        "id": "cemcnEzU1c_P"
      },
      "source": [
        ""
      ],
      "execution_count": null,
      "outputs": []
    }
  ]
}